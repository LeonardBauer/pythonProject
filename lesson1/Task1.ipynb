{
 "cells": [
  {
   "metadata": {},
   "cell_type": "markdown",
   "source": "# Aufgabe 1: Erstellen Sie eine Python-Datei, die „Hello World“ ausgibt.",
   "id": "b04837e30cc82efd"
  },
  {
   "metadata": {},
   "cell_type": "code",
   "outputs": [],
   "execution_count": null,
   "source": "print(\"Hello World\")",
   "id": "a38ea6ea6c21a80e"
  },
  {
   "metadata": {},
   "cell_type": "markdown",
   "source": "# Aufgabe 2: Erstellen Sie eine Python-Datei, die nach einer Zahl fragt und basierend auf bestimmten Regeln „Foo“, „Bar“ oder „Foobar“ ausgibt",
   "id": "39716342f42ec9c8"
  },
  {
   "cell_type": "code",
   "execution_count": null,
   "id": "initial_id",
   "metadata": {
    "collapsed": true
   },
   "outputs": [],
   "source": [
    "while True:\n",
    "    try:\n",
    "        num = int(input(\"Bitte geben Sie eine Zahl ein: \"))\n",
    "        break\n",
    "    except ValueError:\n",
    "        print(\"Das ist keine gültige Zahl. Bitte versuchen Sie es erneut.\")\n",
    "\n",
    "if num % 3 == 0 and num % 4 == 0:\n",
    "    print(\"Foobar\")\n",
    "elif num % 3 == 0:\n",
    "    print(\"Foo\")\n",
    "elif num % 4 == 0:\n",
    "    print(\"Bar\")"
   ]
  },
  {
   "metadata": {},
   "cell_type": "markdown",
   "source": "# Aufgabe 3: Erstellen Sie eine Python-Datei, die mithilfe von „*“ und Leerzeichen einen Baum mit einer bestimmten Breite und Höhe ausgibt",
   "id": "bfc387cb0c47936a"
  },
  {
   "metadata": {
    "ExecuteTime": {
     "end_time": "2024-05-02T08:16:53.138800Z",
     "start_time": "2024-05-02T08:16:46.722685Z"
    }
   },
   "cell_type": "code",
   "source": [
    "def print_tree(height, max_width):\n",
    "    if max_width % 2 == 0:  # Adjust for even width\n",
    "        max_width -= 1\n",
    "\n",
    "    for i in range(height):\n",
    "        stars = 1 + 2 * i\n",
    "        if stars > max_width:\n",
    "            stars = max_width\n",
    "        padding = (max_width - stars) // 2\n",
    "        print(' ' * padding + '*' * stars + ' ' * padding)\n",
    "\n",
    "try:\n",
    "    height = int(input(\"Bitte geben Sie die Höhe des Baumes ein: \"))\n",
    "    max_width = int(input(\"Bitte geben Sie die maximale Breite des Baumes ein: \"))\n",
    "    print_tree(height, max_width)\n",
    "except ValueError:\n",
    "    print(\"Das ist keine gültige Zahl. Bitte versuchen Sie es erneut.\")\n",
    "\n"
   ],
   "id": "d5fa2497f5d17e44",
   "outputs": [
    {
     "name": "stdout",
     "output_type": "stream",
     "text": [
      "              *              \n",
      "             ***             \n",
      "            *****            \n",
      "           *******           \n",
      "          *********          \n",
      "         ***********         \n",
      "        *************        \n",
      "       ***************       \n",
      "      *****************      \n",
      "     *******************     \n",
      "    *********************    \n",
      "   ***********************   \n",
      "  *************************  \n",
      " *************************** \n",
      "*****************************\n",
      "*****************************\n",
      "*****************************\n",
      "*****************************\n",
      "*****************************\n",
      "*****************************\n"
     ]
    }
   ],
   "execution_count": 2
  },
  {
   "metadata": {},
   "cell_type": "code",
   "outputs": [],
   "execution_count": null,
   "source": "",
   "id": "668dd1e6b4bb8e63"
  }
 ],
 "metadata": {
  "kernelspec": {
   "display_name": "Python 3",
   "language": "python",
   "name": "python3"
  },
  "language_info": {
   "codemirror_mode": {
    "name": "ipython",
    "version": 2
   },
   "file_extension": ".py",
   "mimetype": "text/x-python",
   "name": "python",
   "nbconvert_exporter": "python",
   "pygments_lexer": "ipython2",
   "version": "2.7.6"
  }
 },
 "nbformat": 4,
 "nbformat_minor": 5
}
