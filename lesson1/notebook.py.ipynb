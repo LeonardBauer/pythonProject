{
 "cells": [
  {
   "metadata": {},
   "cell_type": "markdown",
   "source": [
    "# Intro\n",
    "Frage den Nutzer nach einem Input, welcher einen Zeitraum in Minuten darstellt. Gib den Zeitraum als Kombination von Stunden, Minuten und Sekunden aus. Runde bei den Sekunden ab. \n",
    "\n",
    "Input: 126.5\n",
    "Output: 2h 6m 30sec"
   ],
   "id": "e311136c000913c9"
  },
  {
   "metadata": {},
   "cell_type": "code",
   "source": [
    "sec = float(input())\n",
    "round(sec)\n",
    "print(sec%3600 , \"h\")\n",
    "print((sec-sec%3600)%60, \"min\")\n",
    "print(sec-((sec-sec%3600)%60), \"sec\")\n"
   ],
   "id": "initial_id",
   "outputs": [],
   "execution_count": null
  },
  {
   "metadata": {},
   "cell_type": "markdown",
   "source": "Erstelle eine Python Datei die Hello World ausgibt",
   "id": "6001c61bb49d5171"
  },
  {
   "metadata": {},
   "cell_type": "code",
   "source": [
    "import random\n",
    "\n",
    "while True:\n",
    "    rndNum = random.randint(1,10)\n",
    "    print(rndNum)\n",
    "    i = int(input(\"Guess the number: \"))\n",
    "    if i == rndNum:\n",
    "        print(\"Correct!\")\n",
    "    elif i == 0:\n",
    "        break\n",
    "    else:\n",
    "        print(\"Wrong!\")\n",
    "        "
   ],
   "id": "3c715d8870554a37",
   "outputs": [],
   "execution_count": null
  },
  {
   "metadata": {},
   "cell_type": "markdown",
   "source": [
    "Frage den Nutzer nach einem Input, entferne alle Zahlen aus dem String und addiere diese. \n",
    "Gib das Ergebnis sowie die restlichen Zeichen aus Tipp: Die Funktion isnumeric() erpart uns hierbei viele if oder ands\n",
    "\n",
    "Input:Hall0 W3lt!\n",
    "Output:3 Hall Wlt!"
   ],
   "id": "86d227ced80952fa"
  },
  {
   "metadata": {
    "ExecuteTime": {
     "end_time": "2024-04-24T10:33:36.339897Z",
     "start_time": "2024-04-24T10:33:33.492105Z"
    }
   },
   "cell_type": "code",
   "source": [
    "i = [char for char in input(\"Give a String: \")] \n",
    "a = 0\n",
    "rmvdchars = []\n",
    "def convert(s): \n",
    " \n",
    "    # initialization of string to \"\" \n",
    "    new = \"\" \n",
    " \n",
    "    # traverse in the string \n",
    "    for x in s: \n",
    "        new += x \n",
    " \n",
    "    return new \n",
    "\n",
    "\n",
    "\n",
    "for j in range(len(i)):\n",
    "    if i[j].isnumeric():\n",
    "        a += int(i[j])\n",
    "        rmvdchars.append(j)\n",
    "\n",
    "for j in reversed(rmvdchars):\n",
    "    i.pop(j)\n",
    "print(a , convert(i))\n"
   ],
   "id": "f64683da4172f33c",
   "outputs": [
    {
     "name": "stdout",
     "output_type": "stream",
     "text": [
      "8 edsqd\n"
     ]
    }
   ],
   "execution_count": 23
  },
  {
   "metadata": {
    "ExecuteTime": {
     "end_time": "2024-04-24T10:30:33.296383Z",
     "start_time": "2024-04-24T10:30:33.285609Z"
    }
   },
   "cell_type": "code",
   "source": "",
   "id": "5c6d3232fcd867d9",
   "outputs": [],
   "execution_count": 17
  },
  {
   "metadata": {},
   "cell_type": "code",
   "source": "",
   "id": "d3df1e5a612b7f1e",
   "outputs": [],
   "execution_count": null
  },
  {
   "metadata": {},
   "cell_type": "code",
   "outputs": [],
   "execution_count": null,
   "source": "",
   "id": "c1e4af3cc00fc227"
  }
 ],
 "metadata": {
  "kernelspec": {
   "display_name": "Python 3",
   "language": "python",
   "name": "python3"
  },
  "language_info": {
   "codemirror_mode": {
    "name": "ipython",
    "version": 2
   },
   "file_extension": ".py",
   "mimetype": "text/x-python",
   "name": "python",
   "nbconvert_exporter": "python",
   "pygments_lexer": "ipython2",
   "version": "2.7.6"
  }
 },
 "nbformat": 4,
 "nbformat_minor": 5
}
