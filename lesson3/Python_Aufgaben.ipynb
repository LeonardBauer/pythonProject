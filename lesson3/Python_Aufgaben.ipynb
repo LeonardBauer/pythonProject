{
 "cells": [
  {
   "cell_type": "markdown",
   "id": "5b4fdd1f",
   "metadata": {},
   "source": [
    "### Aufgabe 3.1\n",
    "Schreibe eine Python Funktion, die eine Liste mit Zahlen beinhaltet und als Eingabe eine Zahl erhält. Das Skript soll die Zahl aus der Liste entfernen, falls diese vorhanden ist, und dann die Liste ausgeben.\n"
   ]
  },
  {
   "cell_type": "code",
   "execution_count": null,
   "id": "bb5d6b6b",
   "metadata": {},
   "outputs": [],
   "source": [
    "def remove_element_from_list(numbers, element):\n",
    "    if element in numbers:\n",
    "        numbers.remove(element)\n",
    "    return numbers\n",
    "\n",
    "numbers = [1, 2, 3, 4, 5]\n",
    "element_to_remove = 3\n",
    "print(remove_element_from_list(numbers, element_to_remove))\n"
   ]
  },
  {
   "cell_type": "markdown",
   "id": "b822757e",
   "metadata": {},
   "source": [
    "### Aufgabe 3.2\n",
    "Schreibe eine Python Funktion, die als Eingabe eine Liste mit Zahlen erhält. Diese ist bereits im Skript vorhanden und muss nicht über eine Abfrage abgefragt werden. Das Skript soll dann jede Zahl aus der Liste entfernen, welche doppelt vorkommt.\n"
   ]
  },
  {
   "cell_type": "code",
   "execution_count": null,
   "id": "7e764661",
   "metadata": {},
   "outputs": [],
   "source": [
    "def remove_duplicates(numbers):\n",
    "    seen = set()\n",
    "    unique_numbers = []\n",
    "    for number in numbers:\n",
    "        if number not in seen:\n",
    "            seen.add(number)\n",
    "            unique_numbers.append(number)\n",
    "    return unique_numbers\n",
    "\n",
    "numbers = [1, 2, 2, 3, 4, 4, 5]\n",
    "print(remove_duplicates(numbers))\n"
   ]
  },
  {
   "cell_type": "markdown",
   "id": "bdf42298",
   "metadata": {},
   "source": [
    "### Aufgabe 3.3\n",
    "Schreibe eine Python Funktion, die eine Liste nach dem Bubblesort Verfahren sortiert. Das Bubblesort Verfahren iteriert durch eine Liste und vergleicht jedes Element mit dessen Nachfolger, wenn die Reihenfolge der Elemente nicht stimmt, werden diese in ihrer Position getauscht und die Iteration wird fortgesetzt.\n"
   ]
  },
  {
   "cell_type": "code",
   "execution_count": null,
   "id": "2f2cd653",
   "metadata": {},
   "outputs": [],
   "source": [
    "def bubble_sort(numbers):\n",
    "    n = len(numbers)\n",
    "    for i in range(n):\n",
    "        for j in range(0, n-i-1):\n",
    "            if numbers[j] > numbers[j+1]:\n",
    "                numbers[j], numbers[j+1] = numbers[j+1], numbers[j]\n",
    "    return numbers\n",
    "\n",
    "numbers = [64, 34, 25, 12, 22, 11, 90]\n",
    "print(bubble_sort(numbers))\n"
   ]
  }
 ],
 "metadata": {},
 "nbformat": 4,
 "nbformat_minor": 5
}
